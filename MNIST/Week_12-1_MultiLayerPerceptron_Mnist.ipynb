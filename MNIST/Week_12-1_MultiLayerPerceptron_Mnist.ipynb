{
  "cells": [
    {
      "cell_type": "markdown",
      "metadata": {
        "id": "xyPc1FxUI6nf"
      },
      "source": [
        "# Multilayer perceptron\n",
        "## MNIST  handwritten digits example\n",
        "#### Black and white images of hand"
      ]
    },
    {
      "cell_type": "code",
      "execution_count": 3,
      "metadata": {
        "id": "KfGaLvVyHWgy"
      },
      "outputs": [],
      "source": [
        "# Download Mnist\n",
        "# https://drive.google.com/file/d/1Aw_60I-PxSjzsrWlrQcyDQ1TDXIWaV6z/view?usp=sharing\n",
        "# need to upload this file in colab\n",
        "import os\n",
        "import sys\n",
        "\n",
        "# !gdown https://drive.google.com/uc?id=1Aw_60I-PxSjzsrWlrQcyDQ1TDXIWaV6z\n",
        "mnist_file_directory = os.getcwd() # current directory\n",
        "# Specify the location of the Mnist file\n",
        "sys.path.append(mnist_file_directory)"
      ]
    },
    {
      "cell_type": "code",
      "execution_count": 4,
      "metadata": {
        "id": "yCX5NTxVGUXN"
      },
      "outputs": [],
      "source": [
        "# Download Mnist data and load\n",
        "# and then place them into training and testing sets\n",
        "from mnist import load_mnist\n",
        "(X_train, y_train), (X_test, y_test) = load_mnist(normalize=True, one_hot_label=True)"
      ]
    },
    {
      "cell_type": "code",
      "execution_count": 5,
      "metadata": {
        "id": "OBaLdXZQIagw"
      },
      "outputs": [
        {
          "name": "stdout",
          "output_type": "stream",
          "text": [
            "Train data shape:  (60000, 784)\n",
            "Train label shape:  (60000, 10)\n",
            "Test data shape:  (10000, 784)\n",
            "Test label shape:  (10000, 10)\n"
          ]
        }
      ],
      "source": [
        "### print shape to see how the data looks like\n",
        "print(\"Train data shape: \", X_train.shape) # 784 = 28 X 28 pixel  60000 samples\n",
        "print(\"Train label shape: \", y_train.shape)\n",
        "print(\"Test data shape: \", X_test.shape) # 784 = 28 X 28 pixel   10000 sampels\n",
        "print(\"Test label shape: \", y_test.shape)"
      ]
    },
    {
      "cell_type": "code",
      "execution_count": 6,
      "metadata": {
        "id": "v4o_80VsGxBG"
      },
      "outputs": [
        {
          "data": {
            "text/plain": [
              "<matplotlib.image.AxesImage at 0x10e4d6af0>"
            ]
          },
          "execution_count": 6,
          "metadata": {},
          "output_type": "execute_result"
        },
        {
          "data": {
            "image/png": "[encoded data removed]",
            "text/plain": [
              "<Figure size 432x288 with 1 Axes>"
            ]
          },
          "metadata": {
            "needs_background": "light"
          },
          "output_type": "display_data"
        }
      ],
      "source": [
        "# plot the data \n",
        "\n",
        "import matplotlib.pylab as plt\n",
        "plt.imshow(X_test[0].reshape(28, 28))"
      ]
    },
    {
      "cell_type": "markdown",
      "metadata": {
        "id": "Ng_wxgN9I_Nj"
      },
      "source": [
        "# Make a multilayer perceptron using Keras"
      ]
    },
    {
      "cell_type": "code",
      "execution_count": 7,
      "metadata": {
        "id": "Q5wRyTn-Gh7D"
      },
      "outputs": [],
      "source": [
        "import numpy as np\n",
        "from keras.models import Sequential\n",
        "from keras.layers import Dense\n",
        "# from keras.optimizers import adam\n",
        "from tensorflow import keras"
      ]
    },
    {
      "cell_type": "code",
      "execution_count": 8,
      "metadata": {
        "id": "9tXJJqJEGmEP"
      },
      "outputs": [
        {
          "name": "stdout",
          "output_type": "stream",
          "text": [
            "count of class:  10\n",
            "number of pixels 784\n"
          ]
        }
      ],
      "source": [
        "num_classes = y_train.shape[1]\n",
        "num_pixels = X_train.shape[1]\n",
        "\n",
        "print(\"count of class: \", num_classes)\n",
        "print(\"number of pixels\", num_pixels)"
      ]
    },
    {
      "cell_type": "code",
      "execution_count": 9,
      "metadata": {
        "id": "3rVKw1WxGmcR"
      },
      "outputs": [],
      "source": [
        "model = Sequential()\n",
        "first_layer_weight_count = 20 # number of units for the hidden layers\n",
        "### Making the network\n",
        "model = Sequential([Dense(first_layer_weight_count, input_dim=num_pixels,  activation='relu'),\n",
        "                    Dense(num_classes, activation='softmax')\n",
        "])\n",
        "\n",
        "### Setting how the model will learn the examples\n",
        "opt = keras.optimizers.Adam(learning_rate=0.001)\n",
        "# opt = keras.optimizers.Adam(learning_rate=0.001)\n",
        "model.compile(loss='categorical_crossentropy', optimizer=opt, metrics=['accuracy'])"
      ]
    },
    {
      "cell_type": "code",
      "execution_count": 10,
      "metadata": {
        "id": "G8O24aERGmon"
      },
      "outputs": [
        {
          "name": "stdout",
          "output_type": "stream",
          "text": [
            "Model: \"sequential_1\"\n",
            "_________________________________________________________________\n",
            " Layer (type)                Output Shape              Param #   \n",
            "=================================================================\n",
            " dense (Dense)               (None, 20)                15700     \n",
            "                                                                 \n",
            " dense_1 (Dense)             (None, 10)                210       \n",
            "                                                                 \n",
            "=================================================================\n",
            "Total params: 15,910\n",
            "Trainable params: 15,910\n",
            "Non-trainable params: 0\n",
            "_________________________________________________________________\n"
          ]
        }
      ],
      "source": [
        "# summary of the model\n",
        "model.summary()"
      ]
    },
    {
      "cell_type": "code",
      "execution_count": 11,
      "metadata": {
        "id": "5gdusIjwGmyR"
      },
      "outputs": [
        {
          "name": "stdout",
          "output_type": "stream",
          "text": [
            "Epoch 1/50\n",
            "   1/1875 [..............................] - ETA: 5:07 - loss: 2.4529 - accuracy: 0.0000e+00"
          ]
        },
        {
          "name": "stderr",
          "output_type": "stream",
          "text": [
            "2022-05-24 23:51:03.473906: W tensorflow/core/platform/profile_utils/cpu_utils.cc:128] Failed to get CPU frequency: 0 Hz\n"
          ]
        },
        {
          "name": "stdout",
          "output_type": "stream",
          "text": [
            "1875/1875 [==============================] - 1s 520us/step - loss: 0.4032 - accuracy: 0.8866 - val_loss: 0.2477 - val_accuracy: 0.9312\n",
            "Epoch 2/50\n",
            "1875/1875 [==============================] - 1s 470us/step - loss: 0.2308 - accuracy: 0.9335 - val_loss: 0.2008 - val_accuracy: 0.9396\n",
            "Epoch 3/50\n",
            "1875/1875 [==============================] - 1s 476us/step - loss: 0.1972 - accuracy: 0.9423 - val_loss: 0.1847 - val_accuracy: 0.9467\n",
            "Epoch 4/50\n",
            "1875/1875 [==============================] - 1s 474us/step - loss: 0.1761 - accuracy: 0.9473 - val_loss: 0.1807 - val_accuracy: 0.9479\n",
            "Epoch 5/50\n",
            "1875/1875 [==============================] - 1s 471us/step - loss: 0.1613 - accuracy: 0.9515 - val_loss: 0.1665 - val_accuracy: 0.9503\n",
            "Epoch 6/50\n",
            "1875/1875 [==============================] - 1s 470us/step - loss: 0.1506 - accuracy: 0.9551 - val_loss: 0.1554 - val_accuracy: 0.9534\n",
            "Epoch 7/50\n",
            "1875/1875 [==============================] - 1s 482us/step - loss: 0.1413 - accuracy: 0.9579 - val_loss: 0.1543 - val_accuracy: 0.9537\n",
            "Epoch 8/50\n",
            "1875/1875 [==============================] - 1s 471us/step - loss: 0.1343 - accuracy: 0.9598 - val_loss: 0.1533 - val_accuracy: 0.9545\n",
            "Epoch 9/50\n",
            "1875/1875 [==============================] - 1s 472us/step - loss: 0.1281 - accuracy: 0.9617 - val_loss: 0.1616 - val_accuracy: 0.9526\n",
            "Epoch 10/50\n",
            "1875/1875 [==============================] - 1s 472us/step - loss: 0.1225 - accuracy: 0.9629 - val_loss: 0.1566 - val_accuracy: 0.9533\n",
            "Epoch 11/50\n",
            "1875/1875 [==============================] - 1s 473us/step - loss: 0.1176 - accuracy: 0.9638 - val_loss: 0.1491 - val_accuracy: 0.9559\n",
            "Epoch 12/50\n",
            "1875/1875 [==============================] - 1s 534us/step - loss: 0.1133 - accuracy: 0.9657 - val_loss: 0.1563 - val_accuracy: 0.9556\n",
            "Epoch 13/50\n",
            "1875/1875 [==============================] - 1s 508us/step - loss: 0.1100 - accuracy: 0.9661 - val_loss: 0.1509 - val_accuracy: 0.9550\n",
            "Epoch 14/50\n",
            "1875/1875 [==============================] - 1s 504us/step - loss: 0.1064 - accuracy: 0.9672 - val_loss: 0.1566 - val_accuracy: 0.9554\n",
            "Epoch 15/50\n",
            "1875/1875 [==============================] - 1s 473us/step - loss: 0.1035 - accuracy: 0.9681 - val_loss: 0.1542 - val_accuracy: 0.9564\n",
            "Epoch 16/50\n",
            "1875/1875 [==============================] - 1s 476us/step - loss: 0.1004 - accuracy: 0.9689 - val_loss: 0.1507 - val_accuracy: 0.9568\n",
            "Epoch 17/50\n",
            "1875/1875 [==============================] - 1s 473us/step - loss: 0.0975 - accuracy: 0.9702 - val_loss: 0.1529 - val_accuracy: 0.9554\n",
            "Epoch 18/50\n",
            "1875/1875 [==============================] - 1s 482us/step - loss: 0.0951 - accuracy: 0.9707 - val_loss: 0.1504 - val_accuracy: 0.9576\n",
            "Epoch 19/50\n",
            "1875/1875 [==============================] - 1s 529us/step - loss: 0.0929 - accuracy: 0.9714 - val_loss: 0.1594 - val_accuracy: 0.9563\n",
            "Epoch 20/50\n",
            "1875/1875 [==============================] - 1s 509us/step - loss: 0.0905 - accuracy: 0.9714 - val_loss: 0.1545 - val_accuracy: 0.9578\n",
            "Epoch 21/50\n",
            "1875/1875 [==============================] - 1s 481us/step - loss: 0.0884 - accuracy: 0.9726 - val_loss: 0.1612 - val_accuracy: 0.9565\n",
            "Epoch 22/50\n",
            "1875/1875 [==============================] - 1s 479us/step - loss: 0.0864 - accuracy: 0.9728 - val_loss: 0.1594 - val_accuracy: 0.9569\n",
            "Epoch 23/50\n",
            "1875/1875 [==============================] - 1s 474us/step - loss: 0.0848 - accuracy: 0.9736 - val_loss: 0.1599 - val_accuracy: 0.9571\n",
            "Epoch 24/50\n",
            "1875/1875 [==============================] - 1s 465us/step - loss: 0.0820 - accuracy: 0.9737 - val_loss: 0.1650 - val_accuracy: 0.9537\n",
            "Epoch 25/50\n",
            "1875/1875 [==============================] - 1s 466us/step - loss: 0.0813 - accuracy: 0.9745 - val_loss: 0.1730 - val_accuracy: 0.9540\n",
            "Epoch 26/50\n",
            "1875/1875 [==============================] - 1s 467us/step - loss: 0.0791 - accuracy: 0.9750 - val_loss: 0.1698 - val_accuracy: 0.9545\n",
            "Epoch 27/50\n",
            "1875/1875 [==============================] - 1s 473us/step - loss: 0.0782 - accuracy: 0.9754 - val_loss: 0.1771 - val_accuracy: 0.9542\n",
            "Epoch 28/50\n",
            "1875/1875 [==============================] - 1s 468us/step - loss: 0.0767 - accuracy: 0.9763 - val_loss: 0.1718 - val_accuracy: 0.9567\n",
            "Epoch 29/50\n",
            "1875/1875 [==============================] - 1s 467us/step - loss: 0.0750 - accuracy: 0.9761 - val_loss: 0.1707 - val_accuracy: 0.9561\n",
            "Epoch 30/50\n",
            "1875/1875 [==============================] - 1s 466us/step - loss: 0.0735 - accuracy: 0.9771 - val_loss: 0.1800 - val_accuracy: 0.9546\n",
            "Epoch 31/50\n",
            "1875/1875 [==============================] - 1s 467us/step - loss: 0.0725 - accuracy: 0.9773 - val_loss: 0.1755 - val_accuracy: 0.9550\n",
            "Epoch 32/50\n",
            "1875/1875 [==============================] - 1s 467us/step - loss: 0.0716 - accuracy: 0.9776 - val_loss: 0.1769 - val_accuracy: 0.9566\n",
            "Epoch 33/50\n",
            "1875/1875 [==============================] - 1s 467us/step - loss: 0.0698 - accuracy: 0.9782 - val_loss: 0.1743 - val_accuracy: 0.9551\n",
            "Epoch 34/50\n",
            "1875/1875 [==============================] - 1s 469us/step - loss: 0.0693 - accuracy: 0.9780 - val_loss: 0.1784 - val_accuracy: 0.9568\n",
            "Epoch 35/50\n",
            "1875/1875 [==============================] - 1s 484us/step - loss: 0.0678 - accuracy: 0.9786 - val_loss: 0.1739 - val_accuracy: 0.9563\n",
            "Epoch 36/50\n",
            "1875/1875 [==============================] - 1s 493us/step - loss: 0.0672 - accuracy: 0.9782 - val_loss: 0.1778 - val_accuracy: 0.9554\n",
            "Epoch 37/50\n",
            "1875/1875 [==============================] - 1s 516us/step - loss: 0.0666 - accuracy: 0.9787 - val_loss: 0.1778 - val_accuracy: 0.9547\n",
            "Epoch 38/50\n",
            "1875/1875 [==============================] - 1s 542us/step - loss: 0.0649 - accuracy: 0.9799 - val_loss: 0.1853 - val_accuracy: 0.9542\n",
            "Epoch 39/50\n",
            "1875/1875 [==============================] - 1s 496us/step - loss: 0.0627 - accuracy: 0.9805 - val_loss: 0.1855 - val_accuracy: 0.9518\n",
            "Epoch 40/50\n",
            "1875/1875 [==============================] - 1s 472us/step - loss: 0.0627 - accuracy: 0.9803 - val_loss: 0.1848 - val_accuracy: 0.9546\n",
            "Epoch 41/50\n",
            "1875/1875 [==============================] - 1s 473us/step - loss: 0.0625 - accuracy: 0.9807 - val_loss: 0.1986 - val_accuracy: 0.9535\n",
            "Epoch 42/50\n",
            "1875/1875 [==============================] - 1s 473us/step - loss: 0.0614 - accuracy: 0.9801 - val_loss: 0.1900 - val_accuracy: 0.9548\n",
            "Epoch 43/50\n",
            "1875/1875 [==============================] - 1s 494us/step - loss: 0.0607 - accuracy: 0.9809 - val_loss: 0.1957 - val_accuracy: 0.9533\n",
            "Epoch 44/50\n",
            "1875/1875 [==============================] - 1s 482us/step - loss: 0.0606 - accuracy: 0.9804 - val_loss: 0.1980 - val_accuracy: 0.9539\n",
            "Epoch 45/50\n",
            "1875/1875 [==============================] - 1s 504us/step - loss: 0.0588 - accuracy: 0.9815 - val_loss: 0.1987 - val_accuracy: 0.9539\n",
            "Epoch 46/50\n",
            "1875/1875 [==============================] - 1s 489us/step - loss: 0.0577 - accuracy: 0.9816 - val_loss: 0.2019 - val_accuracy: 0.9537\n",
            "Epoch 47/50\n",
            "1875/1875 [==============================] - 1s 466us/step - loss: 0.0575 - accuracy: 0.9813 - val_loss: 0.1997 - val_accuracy: 0.9530\n",
            "Epoch 48/50\n",
            "1875/1875 [==============================] - 1s 479us/step - loss: 0.0571 - accuracy: 0.9822 - val_loss: 0.2027 - val_accuracy: 0.9529\n",
            "Epoch 49/50\n",
            "1875/1875 [==============================] - 1s 525us/step - loss: 0.0562 - accuracy: 0.9822 - val_loss: 0.2018 - val_accuracy: 0.9535\n",
            "Epoch 50/50\n",
            "1875/1875 [==============================] - 1s 484us/step - loss: 0.0554 - accuracy: 0.9827 - val_loss: 0.2061 - val_accuracy: 0.9532\n"
          ]
        }
      ],
      "source": [
        "# fit data to model\n",
        "history = model.fit(X_train, y_train, validation_data=(X_test, y_test), epochs=50)"
      ]
    },
    {
      "cell_type": "code",
      "execution_count": 12,
      "metadata": {
        "id": "Bbu076LoLNyt"
      },
      "outputs": [
        {
          "name": "stdout",
          "output_type": "stream",
          "text": [
            "dict_keys(['loss', 'accuracy', 'val_loss', 'val_accuracy'])\n",
            "____________________________________________________________________________________________________________\n",
            "loss:  [0.4032464325428009, 0.23080430924892426, 0.19715365767478943, 0.17608226835727692, 0.1612585484981537, 0.15055964887142181, 0.14133800566196442, 0.13425157964229584, 0.12809380888938904, 0.12250576168298721, 0.11763279885053635, 0.11330302059650421, 0.10998206585645676, 0.10641252249479294, 0.10348331928253174, 0.10040299594402313, 0.09746468812227249, 0.09507894515991211, 0.09294623881578445, 0.09054327756166458, 0.08839312195777893, 0.08639172464609146, 0.08482694625854492, 0.0819510817527771, 0.08132099360227585, 0.07908724993467331, 0.07819085568189621, 0.076693594455719, 0.07499567419290543, 0.07347366213798523, 0.07246030867099762, 0.07162375003099442, 0.06980191916227341, 0.06928308308124542, 0.06781773269176483, 0.06719949096441269, 0.06659863144159317, 0.06486368924379349, 0.06267126649618149, 0.06271963566541672, 0.06248153746128082, 0.061352234333753586, 0.06073949486017227, 0.060586582869291306, 0.05881582945585251, 0.0576799251139164, 0.05754293128848076, 0.057084545493125916, 0.056188009679317474, 0.055398933589458466]\n",
            "____________________________________________________________________________________________________________\n",
            "accuracy:  [0.8865666389465332, 0.9335333108901978, 0.9423166513442993, 0.9473333358764648, 0.9514833092689514, 0.9550666809082031, 0.9579166769981384, 0.9598000049591064, 0.9617499709129333, 0.9629166722297668, 0.963783323764801, 0.9656999707221985, 0.9661499857902527, 0.967199981212616, 0.9681000113487244, 0.968916654586792, 0.970216691493988, 0.970716655254364, 0.9713833332061768, 0.9713833332061768, 0.9725666642189026, 0.9728166460990906, 0.9736166596412659, 0.9737333059310913, 0.9745000004768372, 0.9749666452407837, 0.975350022315979, 0.9763000011444092, 0.9761499762535095, 0.977066695690155, 0.9772999882698059, 0.9775500297546387, 0.9781666398048401, 0.9779666662216187, 0.9785833358764648, 0.9781833291053772, 0.978683352470398, 0.9798666834831238, 0.9804666638374329, 0.9802833199501038, 0.9807000160217285, 0.9800999760627747, 0.9808833599090576, 0.9803500175476074, 0.9815000295639038, 0.9816166758537292, 0.9813166856765747, 0.9821833372116089, 0.9821500182151794, 0.982699990272522]\n"
          ]
        }
      ],
      "source": [
        "print(history.history.keys())\n",
        "print(\"____________________________________\"*3)\n",
        "print(\"loss: \", history.history[\"loss\"])\n",
        "print(\"____________________________________\"*3)\n",
        "print(\"accuracy: \", history.history[\"accuracy\"])"
      ]
    },
    {
      "cell_type": "code",
      "execution_count": 13,
      "metadata": {
        "id": "4LjrbolxMBjd"
      },
      "outputs": [
        {
          "data": {
            "text/plain": [
              "[<matplotlib.lines.Line2D at 0x17f1898b0>]"
            ]
          },
          "execution_count": 13,
          "metadata": {},
          "output_type": "execute_result"
        },
        {
          "data": {
            "image/png": "[encoded data removed]",
            "text/plain": [
              "<Figure size 432x288 with 1 Axes>"
            ]
          },
          "metadata": {
            "needs_background": "light"
          },
          "output_type": "display_data"
        }
      ],
      "source": [
        "plt.title(\"accuracy for the training data\")\n",
        "plt.plot(history.history[\"accuracy\"])"
      ]
    },
    {
      "cell_type": "code",
      "execution_count": 14,
      "metadata": {
        "id": "_6P_idWEGucj"
      },
      "outputs": [
        {
          "name": "stdout",
          "output_type": "stream",
          "text": [
            "model predict:  [1]\n"
          ]
        },
        {
          "data": {
            "image/png": "[encoded data removed]",
            "text/plain": [
              "<Figure size 432x288 with 1 Axes>"
            ]
          },
          "metadata": {
            "needs_background": "light"
          },
          "output_type": "display_data"
        }
      ],
      "source": [
        "# show first data\n",
        "import matplotlib.pylab as plt\n",
        "plt.imshow(X_test[7000].reshape(28, 28))\n",
        "\n",
        "print(\"model predict: \", np.argmax(model.predict(X_test[7000:7001]), axis=1))"
      ]
    },
    {
      "cell_type": "markdown",
      "metadata": {
        "id": "zzrsJmjAKxwb"
      },
      "source": [
        "Model evaluation - test data"
      ]
    },
    {
      "cell_type": "code",
      "execution_count": 15,
      "metadata": {
        "id": "kXPS65oTGurW"
      },
      "outputs": [
        {
          "name": "stdout",
          "output_type": "stream",
          "text": [
            "0.9566\n"
          ]
        }
      ],
      "source": [
        "predicts = np.argmax(model.predict(X_test), axis=1)\n",
        "labels = np.argmax(y_test, axis=1)\n",
        "\n",
        "accuracy = sum(predicts == labels) / len(predicts)\n",
        "\n",
        "print(accuracy)"
      ]
    },
    {
      "cell_type": "code",
      "execution_count": 16,
      "metadata": {
        "id": "ZhebCD8SGu8z"
      },
      "outputs": [
        {
          "data": {
            "text/plain": [
              "array([[9.8246000e-10, 5.3469826e-11, 9.5767936e-09, ..., 9.9224585e-01,\n",
              "        4.8926082e-05, 2.0095640e-05],\n",
              "       [5.1747981e-12, 5.7498250e-13, 1.0000000e+00, ..., 6.5022192e-21,\n",
              "        1.4767581e-14, 3.1559575e-30],\n",
              "       [5.0490737e-08, 9.9800080e-01, 7.3561753e-04, ..., 6.7522247e-05,\n",
              "        1.1393391e-03, 2.0701291e-06],\n",
              "       ...,\n",
              "       [1.5289321e-13, 1.5538225e-15, 7.6895661e-18, ..., 8.2316935e-09,\n",
              "        4.0433981e-04, 3.5224543e-03],\n",
              "       [1.5856533e-11, 6.4973595e-17, 2.4895444e-15, ..., 8.7295736e-13,\n",
              "        1.2022334e-04, 1.3083915e-19],\n",
              "       [3.6107152e-13, 5.2184944e-25, 3.3998960e-12, ..., 2.7349984e-21,\n",
              "        4.6582227e-10, 5.4946634e-11]], dtype=float32)"
            ]
          },
          "execution_count": 16,
          "metadata": {},
          "output_type": "execute_result"
        }
      ],
      "source": [
        "model.predict(X_test)"
      ]
    }
  ],
  "metadata": {
    "colab": {
      "collapsed_sections": [],
      "name": "MultiLayerPerceptron_Mnist.ipynb",
      "provenance": [],
      "toc_visible": true
    },
    "interpreter": {
      "hash": "6a2ab8426269d42ee9fba94d9eb5b0a8b7f95b47bc074ef128370580d7ae2931"
    },
    "kernelspec": {
      "display_name": "Python 3.8.13 ('ds')",
      "language": "python",
      "name": "python3"
    },
    "language_info": {
      "codemirror_mode": {
        "name": "ipython",
        "version": 3
      },
      "file_extension": ".py",
      "mimetype": "text/x-python",
      "name": "python",
      "nbconvert_exporter": "python",
      "pygments_lexer": "ipython3",
      "version": "3.8.13"
    }
  },
  "nbformat": 4,
  "nbformat_minor": 0
}
