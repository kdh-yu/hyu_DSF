{
  "cells": [
    {
      "cell_type": "markdown",
      "metadata": {
        "id": "xyPc1FxUI6nf"
      },
      "source": [
        "# Multilayer perceptron\n",
        "## MNIST  handwritten digits example\n",
        "#### Black and white images of hand"
      ]
    },
    {
      "cell_type": "code",
      "execution_count": 1,
      "metadata": {
        "id": "KfGaLvVyHWgy"
      },
      "outputs": [],
      "source": [
        "# Download Mnist\n",
        "# https://drive.google.com/file/d/1Aw_60I-PxSjzsrWlrQcyDQ1TDXIWaV6z/view?usp=sharing\n",
        "# need to upload this file in colab\n",
        "import os\n",
        "import sys\n",
        "\n",
        "# !gdown https://drive.google.com/uc?id=1Aw_60I-PxSjzsrWlrQcyDQ1TDXIWaV6z\n",
        "mnist_file_directory = os.getcwd() # current directory\n",
        "# Specify the location of the Mnist file\n",
        "sys.path.append(mnist_file_directory)"
      ]
    },
    {
      "cell_type": "code",
      "execution_count": 2,
      "metadata": {
        "id": "yCX5NTxVGUXN"
      },
      "outputs": [],
      "source": [
        "# Download Mnist data and load\n",
        "# and then place them into training and testing sets\n",
        "from mnist import load_mnist\n",
        "(X_train, y_train), (X_test, y_test) = load_mnist(normalize=True, one_hot_label=True)"
      ]
    },
    {
      "cell_type": "code",
      "execution_count": 3,
      "metadata": {
        "id": "OBaLdXZQIagw"
      },
      "outputs": [
        {
          "name": "stdout",
          "output_type": "stream",
          "text": [
            "Train data shape:  (60000, 784)\n",
            "Train label shape:  (60000, 10)\n",
            "Test data shape:  (10000, 784)\n",
            "Test label shape:  (10000, 10)\n"
          ]
        }
      ],
      "source": [
        "### print shape to see how the data looks like\n",
        "print(\"Train data shape: \", X_train.shape) # 784 = 28 X 28 pixel  60000 samples\n",
        "print(\"Train label shape: \", y_train.shape)\n",
        "print(\"Test data shape: \", X_test.shape) # 784 = 28 X 28 pixel   10000 sampels\n",
        "print(\"Test label shape: \", y_test.shape)"
      ]
    },
    {
      "cell_type": "code",
      "execution_count": 4,
      "metadata": {
        "id": "v4o_80VsGxBG"
      },
      "outputs": [
        {
          "data": {
            "text/plain": [
              "<matplotlib.image.AxesImage at 0x10f156ac0>"
            ]
          },
          "execution_count": 4,
          "metadata": {},
          "output_type": "execute_result"
        },
        {
          "data": {
            "image/png": "[encoded data removed]",
            "text/plain": [
              "<Figure size 432x288 with 1 Axes>"
            ]
          },
          "metadata": {
            "needs_background": "light"
          },
          "output_type": "display_data"
        }
      ],
      "source": [
        "# plot the data \n",
        "\n",
        "import matplotlib.pylab as plt\n",
        "plt.imshow(X_test[0].reshape(28, 28))"
      ]
    },
    {
      "cell_type": "markdown",
      "metadata": {
        "id": "Ng_wxgN9I_Nj"
      },
      "source": [
        "# Make a multilayer perceptron using Keras"
      ]
    },
    {
      "cell_type": "code",
      "execution_count": 5,
      "metadata": {
        "id": "Q5wRyTn-Gh7D"
      },
      "outputs": [],
      "source": [
        "import numpy as np\n",
        "from keras.models import Sequential\n",
        "from keras.layers import Dense\n",
        "# from keras.optimizers import adam\n",
        "from tensorflow import keras"
      ]
    },
    {
      "cell_type": "code",
      "execution_count": 6,
      "metadata": {
        "id": "9tXJJqJEGmEP"
      },
      "outputs": [
        {
          "name": "stdout",
          "output_type": "stream",
          "text": [
            "count of class:  10\n",
            "number of pixels 784\n"
          ]
        }
      ],
      "source": [
        "num_classes = y_train.shape[1]\n",
        "num_pixels = X_train.shape[1]\n",
        "\n",
        "print(\"count of class: \", num_classes)\n",
        "print(\"number of pixels\", num_pixels)"
      ]
    },
    {
      "cell_type": "code",
      "execution_count": 7,
      "metadata": {
        "id": "3rVKw1WxGmcR"
      },
      "outputs": [],
      "source": [
        "model = Sequential()\n",
        "first_layer_weight_count = 20 # number of units for the hidden layers\n",
        "### Making the network\n",
        "model = Sequential([Dense(first_layer_weight_count, input_dim=num_pixels,  activation='relu'),\n",
        "                    Dense(num_classes, input_dim=first_layer_weight_count, activation='softmax')\n",
        "])\n",
        "\n",
        "### Setting how the model will learn the examples\n",
        "opt = keras.optimizers.Adam(learning_rate=0.001)\n",
        "# opt = keras.optimizers.Adam(learning_rate=0.001)\n",
        "model.compile(loss='categorical_crossentropy', optimizer=opt, metrics=['accuracy'])"
      ]
    },
    {
      "cell_type": "code",
      "execution_count": 8,
      "metadata": {
        "id": "G8O24aERGmon"
      },
      "outputs": [
        {
          "name": "stdout",
          "output_type": "stream",
          "text": [
            "Model: \"sequential_1\"\n",
            "_________________________________________________________________\n",
            " Layer (type)                Output Shape              Param #   \n",
            "=================================================================\n",
            " dense (Dense)               (None, 20)                15700     \n",
            "                                                                 \n",
            " dense_1 (Dense)             (None, 10)                210       \n",
            "                                                                 \n",
            "=================================================================\n",
            "Total params: 15,910\n",
            "Trainable params: 15,910\n",
            "Non-trainable params: 0\n",
            "_________________________________________________________________\n"
          ]
        }
      ],
      "source": [
        "# summary of the model\n",
        "model.summary()"
      ]
    },
    {
      "cell_type": "code",
      "execution_count": 9,
      "metadata": {
        "id": "5gdusIjwGmyR"
      },
      "outputs": [
        {
          "name": "stdout",
          "output_type": "stream",
          "text": [
            "Epoch 1/50\n"
          ]
        },
        {
          "name": "stderr",
          "output_type": "stream",
          "text": [
            "2022-05-18 22:42:17.847271: W tensorflow/core/platform/profile_utils/cpu_utils.cc:128] Failed to get CPU frequency: 0 Hz\n"
          ]
        },
        {
          "name": "stdout",
          "output_type": "stream",
          "text": [
            "1875/1875 [==============================] - 1s 566us/step - loss: 0.4137 - accuracy: 0.8830 - val_loss: 0.2551 - val_accuracy: 0.9290\n",
            "Epoch 2/50\n",
            "1875/1875 [==============================] - 1s 487us/step - loss: 0.2336 - accuracy: 0.9325 - val_loss: 0.2104 - val_accuracy: 0.9372\n",
            "Epoch 3/50\n",
            "1875/1875 [==============================] - 1s 490us/step - loss: 0.1873 - accuracy: 0.9458 - val_loss: 0.1780 - val_accuracy: 0.9478\n",
            "Epoch 4/50\n",
            "1875/1875 [==============================] - 1s 493us/step - loss: 0.1630 - accuracy: 0.9521 - val_loss: 0.1602 - val_accuracy: 0.9534\n",
            "Epoch 5/50\n",
            "1875/1875 [==============================] - 1s 497us/step - loss: 0.1450 - accuracy: 0.9566 - val_loss: 0.1499 - val_accuracy: 0.9544\n",
            "Epoch 6/50\n",
            "1875/1875 [==============================] - 1s 520us/step - loss: 0.1331 - accuracy: 0.9607 - val_loss: 0.1405 - val_accuracy: 0.9546\n",
            "Epoch 7/50\n",
            "1875/1875 [==============================] - 1s 493us/step - loss: 0.1235 - accuracy: 0.9630 - val_loss: 0.1368 - val_accuracy: 0.9577\n",
            "Epoch 8/50\n",
            "1875/1875 [==============================] - 1s 492us/step - loss: 0.1157 - accuracy: 0.9653 - val_loss: 0.1361 - val_accuracy: 0.9584\n",
            "Epoch 9/50\n",
            "1875/1875 [==============================] - 1s 506us/step - loss: 0.1098 - accuracy: 0.9672 - val_loss: 0.1371 - val_accuracy: 0.9564\n",
            "Epoch 10/50\n",
            "1875/1875 [==============================] - 1s 517us/step - loss: 0.1045 - accuracy: 0.9681 - val_loss: 0.1291 - val_accuracy: 0.9589\n",
            "Epoch 11/50\n",
            "1875/1875 [==============================] - 1s 497us/step - loss: 0.1003 - accuracy: 0.9702 - val_loss: 0.1309 - val_accuracy: 0.9600\n",
            "Epoch 12/50\n",
            "1875/1875 [==============================] - 1s 488us/step - loss: 0.0958 - accuracy: 0.9712 - val_loss: 0.1375 - val_accuracy: 0.9584\n",
            "Epoch 13/50\n",
            "1875/1875 [==============================] - 1s 484us/step - loss: 0.0920 - accuracy: 0.9722 - val_loss: 0.1275 - val_accuracy: 0.9582\n",
            "Epoch 14/50\n",
            "1875/1875 [==============================] - 1s 484us/step - loss: 0.0886 - accuracy: 0.9735 - val_loss: 0.1307 - val_accuracy: 0.9593\n",
            "Epoch 15/50\n",
            "1875/1875 [==============================] - 1s 497us/step - loss: 0.0865 - accuracy: 0.9740 - val_loss: 0.1357 - val_accuracy: 0.9576\n",
            "Epoch 16/50\n",
            "1875/1875 [==============================] - 1s 487us/step - loss: 0.0833 - accuracy: 0.9746 - val_loss: 0.1402 - val_accuracy: 0.9573\n",
            "Epoch 17/50\n",
            "1875/1875 [==============================] - 1s 486us/step - loss: 0.0810 - accuracy: 0.9752 - val_loss: 0.1328 - val_accuracy: 0.9589\n",
            "Epoch 18/50\n",
            "1875/1875 [==============================] - 1s 489us/step - loss: 0.0783 - accuracy: 0.9761 - val_loss: 0.1337 - val_accuracy: 0.9589\n",
            "Epoch 19/50\n",
            "1875/1875 [==============================] - 1s 486us/step - loss: 0.0761 - accuracy: 0.9771 - val_loss: 0.1433 - val_accuracy: 0.9560\n",
            "Epoch 20/50\n",
            "1875/1875 [==============================] - 1s 486us/step - loss: 0.0744 - accuracy: 0.9775 - val_loss: 0.1364 - val_accuracy: 0.9591\n",
            "Epoch 21/50\n",
            "1875/1875 [==============================] - 1s 487us/step - loss: 0.0727 - accuracy: 0.9775 - val_loss: 0.1473 - val_accuracy: 0.9570\n",
            "Epoch 22/50\n",
            "1875/1875 [==============================] - 1s 486us/step - loss: 0.0709 - accuracy: 0.9783 - val_loss: 0.1424 - val_accuracy: 0.9595\n",
            "Epoch 23/50\n",
            "1875/1875 [==============================] - 1s 483us/step - loss: 0.0692 - accuracy: 0.9791 - val_loss: 0.1492 - val_accuracy: 0.9554\n",
            "Epoch 24/50\n",
            "1875/1875 [==============================] - 1s 497us/step - loss: 0.0681 - accuracy: 0.9788 - val_loss: 0.1449 - val_accuracy: 0.9575\n",
            "Epoch 25/50\n",
            "1875/1875 [==============================] - 1s 489us/step - loss: 0.0664 - accuracy: 0.9795 - val_loss: 0.1420 - val_accuracy: 0.9597\n",
            "Epoch 26/50\n",
            "1875/1875 [==============================] - 1s 481us/step - loss: 0.0646 - accuracy: 0.9804 - val_loss: 0.1503 - val_accuracy: 0.9569\n",
            "Epoch 27/50\n",
            "1875/1875 [==============================] - 1s 486us/step - loss: 0.0634 - accuracy: 0.9808 - val_loss: 0.1422 - val_accuracy: 0.9602\n",
            "Epoch 28/50\n",
            "1875/1875 [==============================] - 1s 488us/step - loss: 0.0620 - accuracy: 0.9807 - val_loss: 0.1457 - val_accuracy: 0.9591\n",
            "Epoch 29/50\n",
            "1875/1875 [==============================] - 1s 485us/step - loss: 0.0606 - accuracy: 0.9817 - val_loss: 0.1497 - val_accuracy: 0.9585\n",
            "Epoch 30/50\n",
            "1875/1875 [==============================] - 1s 489us/step - loss: 0.0599 - accuracy: 0.9818 - val_loss: 0.1576 - val_accuracy: 0.9591\n",
            "Epoch 31/50\n",
            "1875/1875 [==============================] - 1s 486us/step - loss: 0.0586 - accuracy: 0.9824 - val_loss: 0.1557 - val_accuracy: 0.9575\n",
            "Epoch 32/50\n",
            "1875/1875 [==============================] - 1s 487us/step - loss: 0.0575 - accuracy: 0.9826 - val_loss: 0.1537 - val_accuracy: 0.9588\n",
            "Epoch 33/50\n",
            "1875/1875 [==============================] - 1s 513us/step - loss: 0.0557 - accuracy: 0.9831 - val_loss: 0.1546 - val_accuracy: 0.9597\n",
            "Epoch 34/50\n",
            "1875/1875 [==============================] - 1s 490us/step - loss: 0.0550 - accuracy: 0.9829 - val_loss: 0.1601 - val_accuracy: 0.9587\n",
            "Epoch 35/50\n",
            "1875/1875 [==============================] - 1s 484us/step - loss: 0.0548 - accuracy: 0.9832 - val_loss: 0.1614 - val_accuracy: 0.9589\n",
            "Epoch 36/50\n",
            "1875/1875 [==============================] - 1s 487us/step - loss: 0.0532 - accuracy: 0.9834 - val_loss: 0.1639 - val_accuracy: 0.9582\n",
            "Epoch 37/50\n",
            "1875/1875 [==============================] - 1s 486us/step - loss: 0.0530 - accuracy: 0.9837 - val_loss: 0.1644 - val_accuracy: 0.9579\n",
            "Epoch 38/50\n",
            "1875/1875 [==============================] - 1s 485us/step - loss: 0.0524 - accuracy: 0.9838 - val_loss: 0.1624 - val_accuracy: 0.9586\n",
            "Epoch 39/50\n",
            "1875/1875 [==============================] - 1s 490us/step - loss: 0.0507 - accuracy: 0.9845 - val_loss: 0.1691 - val_accuracy: 0.9581\n",
            "Epoch 40/50\n",
            "1875/1875 [==============================] - 1s 484us/step - loss: 0.0501 - accuracy: 0.9844 - val_loss: 0.1763 - val_accuracy: 0.9564\n",
            "Epoch 41/50\n",
            "1875/1875 [==============================] - 1s 486us/step - loss: 0.0494 - accuracy: 0.9847 - val_loss: 0.1776 - val_accuracy: 0.9564\n",
            "Epoch 42/50\n",
            "1875/1875 [==============================] - 1s 485us/step - loss: 0.0484 - accuracy: 0.9850 - val_loss: 0.1724 - val_accuracy: 0.9577\n",
            "Epoch 43/50\n",
            "1875/1875 [==============================] - 1s 494us/step - loss: 0.0484 - accuracy: 0.9848 - val_loss: 0.1782 - val_accuracy: 0.9574\n",
            "Epoch 44/50\n",
            "1875/1875 [==============================] - 1s 485us/step - loss: 0.0466 - accuracy: 0.9853 - val_loss: 0.1738 - val_accuracy: 0.9571\n",
            "Epoch 45/50\n",
            "1875/1875 [==============================] - 1s 487us/step - loss: 0.0465 - accuracy: 0.9856 - val_loss: 0.1733 - val_accuracy: 0.9590\n",
            "Epoch 46/50\n",
            "1875/1875 [==============================] - 1s 483us/step - loss: 0.0455 - accuracy: 0.9857 - val_loss: 0.1763 - val_accuracy: 0.9577\n",
            "Epoch 47/50\n",
            "1875/1875 [==============================] - 1s 485us/step - loss: 0.0448 - accuracy: 0.9861 - val_loss: 0.1799 - val_accuracy: 0.9584\n",
            "Epoch 48/50\n",
            "1875/1875 [==============================] - 1s 484us/step - loss: 0.0454 - accuracy: 0.9859 - val_loss: 0.1794 - val_accuracy: 0.9578\n",
            "Epoch 49/50\n",
            "1875/1875 [==============================] - 1s 485us/step - loss: 0.0437 - accuracy: 0.9859 - val_loss: 0.1861 - val_accuracy: 0.9568\n",
            "Epoch 50/50\n",
            "1875/1875 [==============================] - 1s 485us/step - loss: 0.0430 - accuracy: 0.9868 - val_loss: 0.1909 - val_accuracy: 0.9566\n"
          ]
        }
      ],
      "source": [
        "# fit data to model\n",
        "history = model.fit(X_train, y_train, validation_data=(X_test, y_test), epochs=50)"
      ]
    },
    {
      "cell_type": "code",
      "execution_count": 11,
      "metadata": {
        "id": "Bbu076LoLNyt"
      },
      "outputs": [
        {
          "name": "stdout",
          "output_type": "stream",
          "text": [
            "dict_keys(['loss', 'accuracy', 'val_loss', 'val_accuracy'])\n",
            "____________________________________\n",
            "loss:  [0.4136977195739746, 0.23364298045635223, 0.18727050721645355, 0.16300426423549652, 0.1450118124485016, 0.13308800756931305, 0.12345116585493088, 0.11567412316799164, 0.10976298153400421, 0.10445213317871094, 0.10025192052125931, 0.09584850817918777, 0.09201568365097046, 0.08858706057071686, 0.0864744558930397, 0.08328107744455338, 0.08103763312101364, 0.07828915119171143, 0.07612482458353043, 0.0743749588727951, 0.0726572573184967, 0.07092645764350891, 0.06915992498397827, 0.06812184303998947, 0.06637482345104218, 0.06464480608701706, 0.06344309449195862, 0.06198321282863617, 0.06057831645011902, 0.05987543985247612, 0.05862381309270859, 0.05750740319490433, 0.05567599833011627, 0.05501784011721611, 0.05483037233352661, 0.053247492760419846, 0.05304747074842453, 0.05243143066763878, 0.05070093274116516, 0.050146542489528656, 0.049355436116456985, 0.04843514412641525, 0.048442427068948746, 0.04662124812602997, 0.04649841785430908, 0.04549068212509155, 0.04479457437992096, 0.04539864882826805, 0.04367765784263611, 0.04300122335553169]\n",
            "____________________________________\n",
            "accuracy:  [0.8830000162124634, 0.9324666857719421, 0.945816695690155, 0.9520833492279053, 0.9566166400909424, 0.9607333540916443, 0.9629666805267334, 0.9652500152587891, 0.9672333598136902, 0.9681000113487244, 0.9701666831970215, 0.9712499976158142, 0.9722333550453186, 0.9735333323478699, 0.9740333557128906, 0.9746000170707703, 0.9751666784286499, 0.9761000275611877, 0.9770500063896179, 0.9774666428565979, 0.9775333404541016, 0.9782666563987732, 0.9790666699409485, 0.9788333177566528, 0.979533314704895, 0.980400025844574, 0.9808333516120911, 0.980733335018158, 0.9816666841506958, 0.9817666411399841, 0.982366681098938, 0.9825999736785889, 0.9830999970436096, 0.98294997215271, 0.9831666946411133, 0.9833999872207642, 0.9837333559989929, 0.9837833046913147, 0.9844666719436646, 0.9843500256538391, 0.984749972820282, 0.9850000143051147, 0.9848166704177856, 0.9853333234786987, 0.9856333136558533, 0.9857000112533569, 0.9860833287239075, 0.9859499931335449, 0.9859333038330078, 0.9868333339691162]\n"
          ]
        }
      ],
      "source": [
        "print(history.history.keys())\n",
        "print(\"____________________________________\"*3)\n",
        "print(\"loss: \", history.history[\"loss\"])\n",
        "print(\"____________________________________\"*3)\n",
        "print(\"accuracy: \", history.history[\"accuracy\"])"
      ]
    },
    {
      "cell_type": "code",
      "execution_count": 15,
      "metadata": {
        "id": "4LjrbolxMBjd"
      },
      "outputs": [
        {
          "data": {
            "text/plain": [
              "[<matplotlib.lines.Line2D at 0x17e6b2f10>]"
            ]
          },
          "execution_count": 15,
          "metadata": {},
          "output_type": "execute_result"
        },
        {
          "data": {
            "image/png": "[encoded data removed]",
            "text/plain": [
              "<Figure size 432x288 with 1 Axes>"
            ]
          },
          "metadata": {
            "needs_background": "light"
          },
          "output_type": "display_data"
        }
      ],
      "source": [
        "plt.title(\"accuracy for the training data\")\n",
        "plt.plot(history.history[\"accuracy\"])"
      ]
    },
    {
      "cell_type": "code",
      "execution_count": 16,
      "metadata": {
        "id": "_6P_idWEGucj"
      },
      "outputs": [
        {
          "name": "stderr",
          "output_type": "stream",
          "text": [
            "2022-05-18 12:09:31.698681: I tensorflow/core/grappler/optimizers/custom_graph_optimizer_registry.cc:113] Plugin optimizer for device_type GPU is enabled.\n"
          ]
        },
        {
          "name": "stdout",
          "output_type": "stream",
          "text": [
            "model predict:  [1]\n"
          ]
        },
        {
          "data": {
            "image/png": "[encoded data removed]",
            "text/plain": [
              "<Figure size 432x288 with 1 Axes>"
            ]
          },
          "metadata": {
            "needs_background": "light"
          },
          "output_type": "display_data"
        }
      ],
      "source": [
        "# show first data\n",
        "import matplotlib.pylab as plt\n",
        "plt.imshow(X_test[7000].reshape(28, 28))\n",
        "\n",
        "print(\"model predict: \", np.argmax(model.predict(X_test[7000:7001]), axis=1))"
      ]
    },
    {
      "cell_type": "markdown",
      "metadata": {
        "id": "zzrsJmjAKxwb"
      },
      "source": [
        "Model evaluation - test data"
      ]
    },
    {
      "cell_type": "code",
      "execution_count": 17,
      "metadata": {
        "id": "kXPS65oTGurW"
      },
      "outputs": [
        {
          "name": "stdout",
          "output_type": "stream",
          "text": [
            "0.9568\n"
          ]
        }
      ],
      "source": [
        "predicts = np.argmax(model.predict(X_test), axis=1)\n",
        "labels = np.argmax(y_test, axis=1)\n",
        "\n",
        "accuracy = sum(predicts == labels) / len(predicts)\n",
        "\n",
        "print(accuracy)"
      ]
    },
    {
      "cell_type": "code",
      "execution_count": 18,
      "metadata": {
        "id": "ZhebCD8SGu8z"
      },
      "outputs": [
        {
          "data": {
            "text/plain": [
              "array([[2.14569923e-07, 7.85143373e-16, 3.39147982e-06, ...,\n",
              "        9.95795012e-01, 5.88661933e-04, 4.05961182e-04],\n",
              "       [1.94611775e-16, 1.81113510e-11, 1.00000000e+00, ...,\n",
              "        1.09401926e-21, 8.93142449e-09, 1.10527633e-26],\n",
              "       [8.59473005e-07, 9.94467437e-01, 8.70137766e-04, ...,\n",
              "        5.74937658e-05, 4.44879010e-03, 5.98266070e-06],\n",
              "       ...,\n",
              "       [7.41833385e-22, 1.08244464e-22, 3.53527853e-18, ...,\n",
              "        2.33983427e-12, 1.15075096e-07, 6.92707331e-08],\n",
              "       [1.95395025e-08, 1.44464976e-17, 7.63795972e-16, ...,\n",
              "        5.54611301e-10, 1.03858940e-03, 1.38045735e-08],\n",
              "       [3.55687667e-11, 2.44973338e-19, 3.11958082e-09, ...,\n",
              "        2.51501355e-25, 3.34541355e-14, 6.03769262e-19]], dtype=float32)"
            ]
          },
          "execution_count": 18,
          "metadata": {},
          "output_type": "execute_result"
        }
      ],
      "source": [
        "model.predict(X_test)"
      ]
    }
  ],
  "metadata": {
    "colab": {
      "collapsed_sections": [],
      "name": "MultiLayerPerceptron_Mnist.ipynb",
      "provenance": [],
      "toc_visible": true
    },
    "interpreter": {
      "hash": "6a2ab8426269d42ee9fba94d9eb5b0a8b7f95b47bc074ef128370580d7ae2931"
    },
    "kernelspec": {
      "display_name": "Python 3.8.13 ('ds')",
      "language": "python",
      "name": "python3"
    },
    "language_info": {
      "codemirror_mode": {
        "name": "ipython",
        "version": 3
      },
      "file_extension": ".py",
      "mimetype": "text/x-python",
      "name": "python",
      "nbconvert_exporter": "python",
      "pygments_lexer": "ipython3",
      "version": "3.8.13"
    }
  },
  "nbformat": 4,
  "nbformat_minor": 0
}
