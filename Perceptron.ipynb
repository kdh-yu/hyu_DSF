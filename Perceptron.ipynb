{
  "cells": [
    {
      "cell_type": "code",
      "execution_count": 6,
      "metadata": {
        "colab": {
          "base_uri": "https://localhost:8080/"
        },
        "id": "R_GWpyfmMnlG",
        "outputId": "5e9437f3-1e17-4abd-c883-01a733345045"
      },
      "outputs": [
        {
          "name": "stdout",
          "output_type": "stream",
          "text": [
            ">>> (1) Predection of the model [0 1 1 1]\n",
            ">>> (2) the weights w1 and w2 [[2. 2.]]\n",
            ">>> (3) the bias w0 [-1.]\n"
          ]
        },
        {
          "name": "stderr",
          "output_type": "stream",
          "text": [
            "/usr/local/lib/python3.7/dist-packages/sklearn/utils/validation.py:993: DataConversionWarning: A column-vector y was passed when a 1d array was expected. Please change the shape of y to (n_samples, ), for example using ravel().\n",
            "  y = column_or_1d(y, warn=True)\n"
          ]
        }
      ],
      "source": [
        "import numpy as np\n",
        "from sklearn.linear_model import Perceptron\n",
        "\n",
        "#### OR data\n",
        "X = np.array([[0,0],[0,1],[1,0],[1,1]])\n",
        "y = np.array([[0],[1],[1],[1]])\n",
        "\n",
        "### make an model\n",
        "per = Perceptron()\n",
        "\n",
        "### fit the model (using delta rule)\n",
        "per.fit(X, y)\n",
        "\n",
        "### generate the prediction of the model\n",
        "y_pred = per.predict(X)\n",
        "\n",
        "### print the prediction\n",
        "print(\">>> (1) Predection of the model\",y_pred)\n",
        "### print the coef (= weights of the Perceptron model w1, w2 in the slide)\n",
        "print(\">>> (2) the weights w1 and w2\", per.coef_)\n",
        "### print the intercept (= bias in the model, w0 in the slide)\n",
        "print(\">>> (3) the bias w0\", per.intercept_)\n"
      ]
    }
  ],
  "metadata": {
    "colab": {
      "name": "Perceptron.ipynb",
      "provenance": []
    },
    "kernelspec": {
      "display_name": "Python 3",
      "name": "python3"
    },
    "language_info": {
      "name": "python"
    }
  },
  "nbformat": 4,
  "nbformat_minor": 0
}
