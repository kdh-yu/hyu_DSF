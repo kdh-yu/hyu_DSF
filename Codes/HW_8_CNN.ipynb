{
  "cells": [
    {
      "cell_type": "markdown",
      "metadata": {
        "id": "JdAQ4HGjNdi8"
      },
      "source": [
        "# HW#8\n",
        "> 2022094093 Kim Dohoon, Dept of Data Science\n",
        "- fashion_mnist CNN Model\n",
        "- (Conv, Pool) * 3, and flatten, dense, dense"
      ]
    },
    {
      "cell_type": "code",
      "execution_count": 5,
      "metadata": {},
      "outputs": [],
      "source": [
        "# Modules\n",
        "import tensorflow as tf\n",
        "import numpy as np\n",
        "from keras import layers\n",
        "import numpy as np\n",
        "import random as rn\n",
        "from keras.models import Sequential\n",
        "\n",
        "###### Do not modify ######\n",
        "np.random.seed(1)\n",
        "tf.random.set_seed(1)\n",
        "rn.seed(1)\n",
        "###########################"
      ]
    },
    {
      "cell_type": "code",
      "execution_count": 15,
      "metadata": {},
      "outputs": [],
      "source": [
        "# Initial Setting\n",
        "\n",
        "fashion_mnist = tf.keras.datasets.fashion_mnist\n",
        "(train_images, train_labels), (test_images, test_labels) = fashion_mnist.load_data()\n",
        "train_images, test_images = train_images/255.0, test_images/255.0\n",
        "\n",
        "epochs = 10  # Epochs\n",
        "lr = 1e-3  # Learning Rate\n",
        "#train_images = train_images.reshape(60000, -1).astype(np.float32)\n",
        "#test_images = test_images.reshape(10000, -1).astype(np.float32)\n",
        "#train_labels = tf.keras.utils.to_categorical(train_labels, 10)\n",
        "#test_labels = tf.keras.utils.to_categorical(test_labels, 10)"
      ]
    },
    {
      "cell_type": "code",
      "execution_count": 10,
      "metadata": {},
      "outputs": [
        {
          "name": "stdout",
          "output_type": "stream",
          "text": [
            "Model: \"sequential_2\"\n",
            "_________________________________________________________________\n",
            " Layer (type)                Output Shape              Param #   \n",
            "=================================================================\n",
            " conv2d_6 (Conv2D)           (None, 28, 28, 32)        832       \n",
            "                                                                 \n",
            " max_pooling2d_6 (MaxPooling  (None, 14, 14, 32)       0         \n",
            " 2D)                                                             \n",
            "                                                                 \n",
            " conv2d_7 (Conv2D)           (None, 14, 14, 32)        25632     \n",
            "                                                                 \n",
            " max_pooling2d_7 (MaxPooling  (None, 7, 7, 32)         0         \n",
            " 2D)                                                             \n",
            "                                                                 \n",
            " conv2d_8 (Conv2D)           (None, 7, 7, 32)          25632     \n",
            "                                                                 \n",
            " max_pooling2d_8 (MaxPooling  (None, 3, 3, 32)         0         \n",
            " 2D)                                                             \n",
            "                                                                 \n",
            " flatten_2 (Flatten)         (None, 288)               0         \n",
            "                                                                 \n",
            " dense_4 (Dense)             (None, 1024)              295936    \n",
            "                                                                 \n",
            " dense_5 (Dense)             (None, 10)                10250     \n",
            "                                                                 \n",
            "=================================================================\n",
            "Total params: 358,282\n",
            "Trainable params: 358,282\n",
            "Non-trainable params: 0\n",
            "_________________________________________________________________\n"
          ]
        }
      ],
      "source": [
        "# Build Model !!\n",
        "\n",
        "model = Sequential()\n",
        "\n",
        "# Conv layer 1 and Max Pooling\n",
        "model.add(layers.Conv2D(\n",
        "                        input_shape=(28, 28, 1),\n",
        "                        filters = 32,\n",
        "                        kernel_size = [5,5],\n",
        "                        activation = tf.nn.relu,\n",
        "                        padding = 'same'))\n",
        "model.add(layers.MaxPool2D(\n",
        "                        pool_size = [2, 2],\n",
        "                        strides = 2))\n",
        "model.add(layers.Dropout(.1))\n",
        "\n",
        "# Conv layer 2 and Max Pooling\n",
        "model.add(layers.Conv2D(\n",
        "                        filters = 32,\n",
        "                        kernel_size = [5,5],\n",
        "                        activation = tf.nn.relu,\n",
        "                        padding = 'same'))\n",
        "model.add(layers.MaxPool2D(\n",
        "                        pool_size = [2, 2],\n",
        "                        strides = 2))\n",
        "model.add(layers.Dropout(.1))\n",
        "\n",
        "# Conv layer 3 and Max Pooling\n",
        "model.add(layers.Conv2D(\n",
        "                        filters = 32,\n",
        "                        kernel_size = [5,5],\n",
        "                        activation = tf.nn.relu,\n",
        "                        padding = 'same'))\n",
        "model.add(layers.MaxPool2D(\n",
        "                        pool_size = [2, 2],\n",
        "                        strides = 2))\n",
        "model.add(layers.Dropout(.2))\n",
        "\n",
        "# Dense layer and Dropout\n",
        "model.add(layers.Flatten())\n",
        "model.add(layers.Dense(\n",
        "                        units = 1024,\n",
        "                        activation = tf.nn.relu))\n",
        "model.add(layers.Dense(10, activation='softmax'))\n",
        "\n",
        "# See how model was built\n",
        "model.summary()"
      ]
    },
    {
      "cell_type": "code",
      "execution_count": 13,
      "metadata": {},
      "outputs": [
        {
          "name": "stdout",
          "output_type": "stream",
          "text": [
            "Epoch 1/10\n",
            "   8/1875 [..............................] - ETA: 13s - loss: 0.3849 - accuracy: 0.8711 "
          ]
        },
        {
          "name": "stderr",
          "output_type": "stream",
          "text": [
            "2022-05-24 13:33:14.187435: I tensorflow/core/grappler/optimizers/custom_graph_optimizer_registry.cc:113] Plugin optimizer for device_type GPU is enabled.\n"
          ]
        },
        {
          "name": "stdout",
          "output_type": "stream",
          "text": [
            "1875/1875 [==============================] - 12s 6ms/step - loss: 0.3336 - accuracy: 0.8777\n",
            "Epoch 2/10\n",
            "1875/1875 [==============================] - 13s 7ms/step - loss: 0.2696 - accuracy: 0.9010\n",
            "Epoch 3/10\n",
            "1875/1875 [==============================] - 13s 7ms/step - loss: 0.2383 - accuracy: 0.9125\n",
            "Epoch 4/10\n",
            "1875/1875 [==============================] - 12s 7ms/step - loss: 0.2107 - accuracy: 0.9200\n",
            "Epoch 5/10\n",
            "1875/1875 [==============================] - 13s 7ms/step - loss: 0.1899 - accuracy: 0.9294\n",
            "Epoch 6/10\n",
            "1875/1875 [==============================] - 13s 7ms/step - loss: 0.1683 - accuracy: 0.9368\n",
            "Epoch 7/10\n",
            "1875/1875 [==============================] - 13s 7ms/step - loss: 0.1520 - accuracy: 0.9414\n",
            "Epoch 8/10\n",
            "1875/1875 [==============================] - 12s 6ms/step - loss: 0.1364 - accuracy: 0.9482\n",
            "Epoch 9/10\n",
            "1875/1875 [==============================] - 12s 6ms/step - loss: 0.1263 - accuracy: 0.9519\n",
            "Epoch 10/10\n",
            "1875/1875 [==============================] - 13s 7ms/step - loss: 0.1129 - accuracy: 0.9567\n"
          ]
        },
        {
          "data": {
            "text/plain": [
              "<keras.callbacks.History at 0x29ee51a60>"
            ]
          },
          "execution_count": 13,
          "metadata": {},
          "output_type": "execute_result"
        }
      ],
      "source": [
        "opt = tf.keras.optimizers.Nadam(learning_rate=lr) \n",
        "loss = tf.keras.losses.SparseCategoricalCrossentropy(\n",
        "    from_logits=False,\n",
        "    reduction = tf.keras.losses.Reduction.SUM_OVER_BATCH_SIZE\n",
        ")\n",
        "\n",
        "model.compile(optimizer=opt,\n",
        "              loss=loss,\n",
        "              metrics=['accuracy'])\n",
        "\n",
        "model.fit(train_images, train_labels, epochs=epochs,batch_size=128)"
      ]
    },
    {
      "cell_type": "code",
      "execution_count": 14,
      "metadata": {},
      "outputs": [
        {
          "name": "stderr",
          "output_type": "stream",
          "text": [
            "2022-05-24 13:35:20.861430: I tensorflow/core/grappler/optimizers/custom_graph_optimizer_registry.cc:113] Plugin optimizer for device_type GPU is enabled.\n"
          ]
        },
        {
          "name": "stdout",
          "output_type": "stream",
          "text": [
            "313/313 - 1s - loss: 0.3034 - accuracy: 0.9145 - 1s/epoch - 4ms/step\n",
            "0.9145000576972961\n"
          ]
        }
      ],
      "source": [
        "# Evaluate Model\n",
        "test_loss, test_acc = model.evaluate(test_images, test_labels, verbose=2)\n",
        "print(test_acc)"
      ]
    }
  ],
  "metadata": {
    "accelerator": "GPU",
    "colab": {
      "collapsed_sections": [],
      "name": "HW#8_Code.ipynb",
      "provenance": []
    },
    "interpreter": {
      "hash": "6a2ab8426269d42ee9fba94d9eb5b0a8b7f95b47bc074ef128370580d7ae2931"
    },
    "kernelspec": {
      "display_name": "Python 3.8.13 ('ds')",
      "language": "python",
      "name": "python3"
    },
    "language_info": {
      "codemirror_mode": {
        "name": "ipython",
        "version": 3
      },
      "file_extension": ".py",
      "mimetype": "text/x-python",
      "name": "python",
      "nbconvert_exporter": "python",
      "pygments_lexer": "ipython3",
      "version": "3.8.13"
    }
  },
  "nbformat": 4,
  "nbformat_minor": 0
}
