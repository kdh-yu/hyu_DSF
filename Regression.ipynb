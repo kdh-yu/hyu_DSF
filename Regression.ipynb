{
  "cells": [
    {
      "cell_type": "markdown",
      "metadata": {
        "deletable": true,
        "editable": true,
        "id": "oKt_fQNBrSIC"
      },
      "source": [
        "# Linear regression"
      ]
    },
    {
      "cell_type": "code",
      "execution_count": 1,
      "metadata": {
        "collapsed": true,
        "deletable": true,
        "editable": true,
        "id": "99T081jJrSID"
      },
      "outputs": [],
      "source": [
        "import matplotlib.pyplot as plt\n",
        "import seaborn as sns; sns.set()\n",
        "import numpy as np"
      ]
    },
    {
      "cell_type": "markdown",
      "metadata": {
        "deletable": true,
        "editable": true,
        "id": "ac5OrmI3rSIE"
      },
      "source": [
        "# (1) Simple Linear Regression\n",
        "\n",
        "We will start with the most familiar linear regression, a straight-line fit to data.\n",
        "A straight-line fit is a model of the form\n",
        "$$\n",
        "y = ax + b\n",
        "$$\n",
        "where $a$ is commonly known as the *slope*, and $b$ is commonly known as the *intercept*.\n",
        "\n",
        "Consider the following data, which is scattered about a line with a slope of 2 and an intercept of -5:"
      ]
    },
    {
      "cell_type": "code",
      "execution_count": 2,
      "metadata": {
        "deletable": true,
        "editable": true,
        "id": "d8nmuCyOrSIE"
      },
      "outputs": [
        {
          "data": {
            "image/png": "[encoded data removed]",
            "text/plain": [
              "<Figure size 432x288 with 1 Axes>"
            ]
          },
          "metadata": {
            "needs_background": "light"
          },
          "output_type": "display_data"
        }
      ],
      "source": [
        "rng = np.random.RandomState(1) ## making a random state for everybody to be the same\n",
        "x = 10 * rng.rand(50) # 50 random points ranging from 0 ~ 10   rng.rand(50) make random points from 0~1 then *10 makes it 0~10\n",
        "y = 2 * x - 5 + rng.randn(50) # making it into a line\n",
        "plt.scatter(x, y);"
      ]
    },
    {
      "cell_type": "markdown",
      "metadata": {
        "deletable": true,
        "editable": true,
        "id": "c7yuGpDJrSIF"
      },
      "source": [
        "We can use Scikit-Learn's ``LinearRegression`` estimator to fit this data and construct the best-fit line:"
      ]
    },
    {
      "cell_type": "code",
      "execution_count": 3,
      "metadata": {
        "deletable": true,
        "editable": true,
        "id": "mWfqInntrSIF"
      },
      "outputs": [
        {
          "name": "stdout",
          "output_type": "stream",
          "text": [
            "Mean squared error: 0.82\n"
          ]
        },
        {
          "data": {
            "image/png": "[encoded data removed]",
            "text/plain": [
              "<Figure size 432x288 with 1 Axes>"
            ]
          },
          "metadata": {
            "needs_background": "light"
          },
          "output_type": "display_data"
        }
      ],
      "source": [
        "from sklearn.linear_model import LinearRegression\n",
        "model = LinearRegression(fit_intercept=True) #specifying the model (instance)\n",
        "\n",
        "model.fit(x[:, np.newaxis], y) # np.newaxis makes x into a 2D array\n",
        "\n",
        "# plot\n",
        "xfit = np.linspace(0, 10, 1000) # make 1000 points from 0 to 10\n",
        "yfit = model.predict(xfit[:, np.newaxis]) # fit the xfit to the model and predict y\n",
        "\n",
        "plt.scatter(x, y)\n",
        "plt.plot(xfit, yfit);\n",
        "\n",
        "#### Error (Mean Squared error)  https://scikit-learn.org/stable/modules/model_evaluation.html#mean-squared-error\n",
        "from sklearn.metrics import mean_squared_error\n",
        "ypre = model.predict(x[:, np.newaxis]) # fit the actual x to the model and predict y\n",
        "print('Mean squared error: %.2f' %mean_squared_error(y, ypre))\n"
      ]
    },
    {
      "cell_type": "code",
      "execution_count": null,
      "metadata": {
        "id": "frWvhKjvSmF4"
      },
      "outputs": [],
      "source": [
        "x[:, np.newaxis]"
      ]
    },
    {
      "cell_type": "markdown",
      "metadata": {
        "deletable": true,
        "editable": true,
        "id": "S4wqYhNMrSIG"
      },
      "source": [
        "The slope and intercept of the data are contained in the model's fit parameters, which in Scikit-Learn are always marked by a trailing underscore.\n",
        "Here the relevant parameters are ``coef_`` and ``intercept_``:"
      ]
    },
    {
      "cell_type": "code",
      "execution_count": 4,
      "metadata": {
        "deletable": true,
        "editable": true,
        "id": "-Bljig95rSIH"
      },
      "outputs": [
        {
          "name": "stdout",
          "output_type": "stream",
          "text": [
            "Model: Y = aX + b\n",
            "Model slope (a):     2.027208810360696\n",
            "Model intercept (b): -4.9985770855532055\n"
          ]
        }
      ],
      "source": [
        "print(\"Model: Y = aX + b\")\n",
        "print(\"Model slope (a):    \", model.coef_[0])\n",
        "print(\"Model intercept (b):\", model.intercept_)"
      ]
    },
    {
      "cell_type": "markdown",
      "metadata": {
        "deletable": true,
        "editable": true,
        "id": "n-yKu1KzrSII"
      },
      "source": [
        "# Example from AlbumSales.csv"
      ]
    },
    {
      "cell_type": "code",
      "execution_count": 5,
      "metadata": {
        "id": "1LuvsgnyVLcO"
      },
      "outputs": [],
      "source": [
        "# (0) Load libraries\n",
        "# from google.colab import files #this is a colab specific library\n",
        "import io\n",
        "import pandas as pd\n",
        "\n",
        "\n",
        "# (1) Prepare file\n",
        "### (1.1) Upload data from local computer to colab\n",
        "# uploaded1 = files.upload() ## ANIMAL_INFO.csv\n",
        "\n",
        "### (1.2) Read csv file\n",
        "# df_album = pd.read_csv(io.BytesIO(uploaded1['AlbumSales.csv']))\n",
        "df_album = pd.read_csv('/Users/tt/Documents/Programming Files/Data_Science_Fundementals/datasets/AlbumSales.csv')\n"
      ]
    },
    {
      "cell_type": "code",
      "execution_count": 6,
      "metadata": {
        "id": "V4DH1aRUV7jR"
      },
      "outputs": [
        {
          "data": {
            "text/html": [
              "<div>\n",
              "<style scoped>\n",
              "    .dataframe tbody tr th:only-of-type {\n",
              "        vertical-align: middle;\n",
              "    }\n",
              "\n",
              "    .dataframe tbody tr th {\n",
              "        vertical-align: top;\n",
              "    }\n",
              "\n",
              "    .dataframe thead th {\n",
              "        text-align: right;\n",
              "    }\n",
              "</style>\n",
              "<table border=\"1\" class=\"dataframe\">\n",
              "  <thead>\n",
              "    <tr style=\"text-align: right;\">\n",
              "      <th></th>\n",
              "      <th>adverts</th>\n",
              "      <th>sales</th>\n",
              "      <th>airplay</th>\n",
              "      <th>attract</th>\n",
              "    </tr>\n",
              "  </thead>\n",
              "  <tbody>\n",
              "    <tr>\n",
              "      <th>0</th>\n",
              "      <td>10.256</td>\n",
              "      <td>330</td>\n",
              "      <td>43</td>\n",
              "      <td>10</td>\n",
              "    </tr>\n",
              "    <tr>\n",
              "      <th>1</th>\n",
              "      <td>985.685</td>\n",
              "      <td>120</td>\n",
              "      <td>28</td>\n",
              "      <td>7</td>\n",
              "    </tr>\n",
              "    <tr>\n",
              "      <th>2</th>\n",
              "      <td>1445.560</td>\n",
              "      <td>360</td>\n",
              "      <td>35</td>\n",
              "      <td>7</td>\n",
              "    </tr>\n",
              "    <tr>\n",
              "      <th>3</th>\n",
              "      <td>1188.190</td>\n",
              "      <td>270</td>\n",
              "      <td>33</td>\n",
              "      <td>7</td>\n",
              "    </tr>\n",
              "    <tr>\n",
              "      <th>4</th>\n",
              "      <td>574.513</td>\n",
              "      <td>220</td>\n",
              "      <td>44</td>\n",
              "      <td>5</td>\n",
              "    </tr>\n",
              "  </tbody>\n",
              "</table>\n",
              "</div>"
            ],
            "text/plain": [
              "    adverts  sales  airplay  attract\n",
              "0    10.256    330       43       10\n",
              "1   985.685    120       28        7\n",
              "2  1445.560    360       35        7\n",
              "3  1188.190    270       33        7\n",
              "4   574.513    220       44        5"
            ]
          },
          "execution_count": 6,
          "metadata": {},
          "output_type": "execute_result"
        }
      ],
      "source": [
        "df_album.head()"
      ]
    },
    {
      "cell_type": "markdown",
      "metadata": {
        "id": "NNvJqfGXWBfI"
      },
      "source": [
        "### Run a linear regression where X = adverts and Y = sales\n",
        "\n"
      ]
    },
    {
      "cell_type": "code",
      "execution_count": null,
      "metadata": {
        "id": "-RW8HdpfWAba"
      },
      "outputs": [],
      "source": [
        "x = df_album['adverts']\n",
        "y = df_album['sales']\n",
        "\n"
      ]
    },
    {
      "cell_type": "code",
      "execution_count": null,
      "metadata": {
        "id": "uyi3TyIaVZ0f"
      },
      "outputs": [],
      "source": [
        "#### Your turn\n",
        "\n",
        "\n"
      ]
    },
    {
      "cell_type": "markdown",
      "metadata": {
        "id": "racaLv9jXKkR"
      },
      "source": [
        "# (2) Multiple linear regression\n",
        "### Run a linear regression where X = adverts, airplay and Y = sales\n",
        "\n"
      ]
    },
    {
      "cell_type": "code",
      "execution_count": null,
      "metadata": {
        "id": "gCCI6bI0XJrr"
      },
      "outputs": [],
      "source": [
        "x = df_album[['adverts', 'airplay']]\n",
        "y = df_album['sales']\n",
        "from sklearn.linear_model import LinearRegression\n",
        "model2 = LinearRegression(fit_intercept=True) #specifying the model (instance)\n",
        "model2.fit(x, y) # np.newaxis makes x into a 2D array\n",
        "\n",
        "ypre = model2.predict(x) # fit the xfit to the model and predict y\n",
        "\n",
        "\n",
        "# plot\n",
        "### https://aegis4048.github.io/mutiple_linear_regression_and_visualization_in_python\n",
        "\n",
        "from sklearn.metrics import mean_squared_error\n",
        "print('Mean squared error: %.2f' %mean_squared_error(y, ypre))\n",
        "print(\"Model: Y = a1X1 + a2X2 + b\")\n",
        "print(\"Model slope (a):    \", model2.coef_)\n",
        "print(\"Model intercept (b):\", model2.intercept_)"
      ]
    },
    {
      "cell_type": "code",
      "execution_count": null,
      "metadata": {
        "id": "cPLGB12CaOJd"
      },
      "outputs": [],
      "source": [
        "max(x['airplay'])"
      ]
    },
    {
      "cell_type": "markdown",
      "metadata": {
        "id": "mcNvPdqoetcu"
      },
      "source": [
        "# (3) Logistic regression\n",
        "### example from "
      ]
    },
    {
      "cell_type": "code",
      "execution_count": null,
      "metadata": {
        "id": "QOvWqIt5evf5"
      },
      "outputs": [],
      "source": [
        " # (0) Load libraries\n",
        "from google.colab import files #this is a colab specific library\n",
        "import io\n",
        "import pandas as pd\n",
        "\n",
        "\n",
        "# (1) Prepare file\n",
        "### (1.1) Upload data from local computer to colab\n",
        "uploaded2 = files.upload() ## ANIMAL_INFO.csv\n",
        "\n",
        "### (1.2) Read csv file\n",
        "df_heart = pd.read_csv(io.BytesIO(uploaded2['heart.csv']))\n"
      ]
    },
    {
      "cell_type": "code",
      "execution_count": null,
      "metadata": {
        "id": "mLXgjVZDf0w6"
      },
      "outputs": [],
      "source": [
        "df_heart.head()"
      ]
    },
    {
      "cell_type": "code",
      "execution_count": 47,
      "metadata": {
        "id": "QDlIaf4gf5Rm"
      },
      "outputs": [],
      "source": [
        "x3 = df_heart['thalach']\n",
        "y3 = df_heart['target']"
      ]
    },
    {
      "cell_type": "code",
      "execution_count": null,
      "metadata": {
        "id": "ogp4SWKngR2K"
      },
      "outputs": [],
      "source": [
        "print('x3 range: %f, %f'%(min(x3),max(x3)))\n",
        "print('y3 range: %f, %f'%(min(y3),max(y3)))"
      ]
    },
    {
      "cell_type": "code",
      "execution_count": null,
      "metadata": {
        "id": "UpVx7-ABfLej"
      },
      "outputs": [],
      "source": [
        "from sklearn.linear_model import LogisticRegression\n",
        "\n",
        "model3 = LogisticRegression()\n",
        "model3.fit(x3[:, np.newaxis], y3) # np.newaxis makes x into a 2D array\n",
        "\n",
        "# plot\n",
        "xfit = np.linspace(60, 210, 500) \n",
        "yfit = model3.predict(xfit[:, np.newaxis]) # fit the xfit to the model and predict y\n",
        "\n",
        "plt.scatter(x3, y3)\n",
        "plt.plot(xfit, yfit, 'r:');"
      ]
    },
    {
      "cell_type": "code",
      "execution_count": null,
      "metadata": {
        "id": "_2Iorke4g82B"
      },
      "outputs": [],
      "source": [
        "print(\"Model slope (a):    \", model3.coef_[0])\n",
        "print(\"Model intercept (b):\", model3.intercept_)"
      ]
    },
    {
      "cell_type": "code",
      "execution_count": null,
      "metadata": {
        "id": "YetX85rGiKxt"
      },
      "outputs": [],
      "source": [
        "## How to plot it like in JASP???\n",
        "# your turn\n"
      ]
    }
  ],
  "metadata": {
    "anaconda-cloud": {},
    "colab": {
      "collapsed_sections": [],
      "name": "Regression.ipynb",
      "provenance": []
    },
    "interpreter": {
      "hash": "b2231998c8eb6d2e00a893c9ad93165bb1d58f973aa17787f4dfdd245eb9962b"
    },
    "kernelspec": {
      "display_name": "Python 3.8.13 ('tf25')",
      "language": "python",
      "name": "python3"
    },
    "language_info": {
      "codemirror_mode": {
        "name": "ipython",
        "version": 3
      },
      "file_extension": ".py",
      "mimetype": "text/x-python",
      "name": "python",
      "nbconvert_exporter": "python",
      "pygments_lexer": "ipython3",
      "version": "3.8.13"
    }
  },
  "nbformat": 4,
  "nbformat_minor": 0
}
